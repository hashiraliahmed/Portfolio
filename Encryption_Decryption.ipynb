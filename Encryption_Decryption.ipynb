{
  "nbformat": 4,
  "nbformat_minor": 0,
  "metadata": {
    "colab": {
      "provenance": [],
      "authorship_tag": "ABX9TyMGCQhJE6vx1zgsJkIjETUZ",
      "include_colab_link": true
    },
    "kernelspec": {
      "name": "python3",
      "display_name": "Python 3"
    },
    "language_info": {
      "name": "python"
    }
  },
  "cells": [
    {
      "cell_type": "markdown",
      "metadata": {
        "id": "view-in-github",
        "colab_type": "text"
      },
      "source": [
        "<a href=\"https://colab.research.google.com/github/hashiraliahmed/Portfolio/blob/main/Encryption_Decryption.ipynb\" target=\"_parent\"><img src=\"https://colab.research.google.com/assets/colab-badge.svg\" alt=\"Open In Colab\"/></a>"
      ]
    },
    {
      "cell_type": "code",
      "execution_count": 5,
      "metadata": {
        "colab": {
          "base_uri": "https://localhost:8080/",
          "height": 36
        },
        "id": "utCeIMonY6nm",
        "outputId": "eef74b12-ba27-43e4-ee17-bd6462f6b6dd"
      },
      "outputs": [
        {
          "output_type": "execute_result",
          "data": {
            "text/plain": [
              "' Decrypt Message 1: '"
            ],
            "application/vnd.google.colaboratory.intrinsic+json": {
              "type": "string"
            }
          },
          "metadata": {},
          "execution_count": 5
        }
      ],
      "source": [
        "\"\"\" Decrypt Message 1: \"\"\""
      ]
    },
    {
      "cell_type": "code",
      "source": [
        "cipher = {\n",
        "    'a':'v',\n",
        "    'b':'h',\n",
        "    'c':'r',\n",
        "    'd':'j',\n",
        "    'e':'t',\n",
        "    'f':'x',\n",
        "    'g':'s',\n",
        "    'h':'a',\n",
        "    'i':'e',\n",
        "    'j':'f',\n",
        "    'k':'b',\n",
        "    'l':'n',\n",
        "    'm':'o',\n",
        "    'n':'i',\n",
        "    'o':'g',\n",
        "    'p':'l',\n",
        "    'q':'m',\n",
        "    'r':'z',\n",
        "    's':'q',\n",
        "    't':'u',\n",
        "    'u':'c',\n",
        "    'v':'k',\n",
        "    'w':'d',\n",
        "    'x':'p',\n",
        "    'y':'y',\n",
        "    'z':'w',\n",
        "    ' ': '}',\n",
        "    '\\n': '^',\n",
        "    ',': '5',\n",
        "    '!': '[',\n",
        "    ':':'-',\n",
        "    ')':'*',\n",
        "    '.': '%'\n",
        "}\n",
        "\n",
        "encrypted_file = open(\"encrypted_message_one.txt\", 'r')\n",
        "\n",
        "encrypted_message = encrypted_file.readline()\n",
        "\n",
        "encrypted_file.close()\n",
        "\n",
        "decryption_cipher = {v: k for k, v in cipher.items()}   # Reverse cipher\n",
        "\n",
        "print(\"Encrypted Message:\", encrypted_message)   #  some debugging"
      ],
      "metadata": {
        "colab": {
          "base_uri": "https://localhost:8080/"
        },
        "id": "PF0EAp0dZUOe",
        "outputId": "c778df85-bb97-422d-aa5e-edf7192a56ba"
      },
      "execution_count": 3,
      "outputs": [
        {
          "output_type": "stream",
          "name": "stdout",
          "text": [
            "Encrypted Message: atnng}vnn5}aglt}ygc}vzt}avkeis}v}sggj}qtotqutz[}e}vnqg}aglt}uaeq}vqqesiotiu}eq}igu}ugg}hvj}-*}hy}uat}dvy}daent}e}avkt}ygcz}vuutiuegi}e}uagcsau}e}dgcnj}sekt}ygc}v}mcgut}xzgo}ugo}sgndvy}hcu}uaeq}mcgut}eq}ei}uat}qtrgij}aejjti}otqqvst%\n"
          ]
        }
      ]
    },
    {
      "cell_type": "code",
      "source": [
        "decrypted_message = \"\"\n",
        "for char in encrypted_message:\n",
        "    if char in decryption_cipher:\n",
        "        decrypted_message += decryption_cipher[char]\n",
        "    else:\n",
        "        decrypted_message += char\n",
        "\n",
        "print(\"Decrypted Message:\", decrypted_message)"
      ],
      "metadata": {
        "colab": {
          "base_uri": "https://localhost:8080/"
        },
        "id": "mgyhMnCdaODj",
        "outputId": "3f52d573-2ed1-48a8-d247-71cafa5c8376"
      },
      "execution_count": 4,
      "outputs": [
        {
          "output_type": "stream",
          "name": "stdout",
          "text": [
            "Decrypted Message: hello all, hope you are having a good semester! i also hope this assignment is not too bad :) by the way while i have your attention i thought i would give you a quote from tom golway but this quote is in the second hidden message.\n"
          ]
        }
      ]
    },
    {
      "cell_type": "code",
      "source": [
        "\"\"\" Decrypt Message 2: \"\"\""
      ],
      "metadata": {
        "colab": {
          "base_uri": "https://localhost:8080/",
          "height": 36
        },
        "id": "HPP7aqfgaPWY",
        "outputId": "28671692-27ca-430a-8006-f11a5f1a5a95"
      },
      "execution_count": 6,
      "outputs": [
        {
          "output_type": "execute_result",
          "data": {
            "text/plain": [
              "' Decrypt Message 2: '"
            ],
            "application/vnd.google.colaboratory.intrinsic+json": {
              "type": "string"
            }
          },
          "metadata": {},
          "execution_count": 6
        }
      ]
    },
    {
      "cell_type": "code",
      "source": [
        "encrypted_file = open(\"encrypted_message_two.txt\", 'r')\n",
        "\n",
        "encrypted_message = encrypted_file.readline()\n",
        "\n",
        "encrypted_file.close()\n",
        "\n",
        "length = len(encrypted_message)\n",
        "decrypted_message = list(encrypted_message)  # list conversion\n",
        "\n",
        "\"\"\" Swap characters \"\"\"\n",
        "start = 1\n",
        "end = length - 2\n",
        "\n",
        "while start < end:\n",
        "    decrypted_message[start], decrypted_message[end] = decrypted_message[end], decrypted_message[start]\n",
        "\n",
        "    start += 2\n",
        "    end -= 2\n",
        "\n",
        "# reconvert back to string\n",
        "decrypted_message = ''.join(decrypted_message)\n",
        "\n",
        "print(\"Decrypted Message:\", decrypted_message)"
      ],
      "metadata": {
        "colab": {
          "base_uri": "https://localhost:8080/"
        },
        "id": "r9uRU-w5ahHo",
        "outputId": "396590f9-711e-4938-bb65-68c3cfd0494a"
      },
      "execution_count": 7,
      "outputs": [
        {
          "output_type": "stream",
          "name": "stdout",
          "text": [
            "Decrypted Message: The quote by Tom Golway is, \"An issue with current data science methodologies is that the impact of contextual awareness is underestimated since the problem is much more complex. At times we incorrectly equate correlation with causation based on incomplete data or lack of understanding sensitive dependencies between data sets\". In your README.md file, provide an explanation as to what you think this means it does not have to be too long.\n"
          ]
        }
      ]
    },
    {
      "cell_type": "code",
      "source": [
        "\"\"\"What does this even mean?\"\"\""
      ],
      "metadata": {
        "colab": {
          "base_uri": "https://localhost:8080/",
          "height": 36
        },
        "id": "7Eg8bW7-bwUu",
        "outputId": "46bce697-9dc0-4648-90a3-bdc8b72297d1"
      },
      "execution_count": 9,
      "outputs": [
        {
          "output_type": "execute_result",
          "data": {
            "text/plain": [
              "'What does this even mean?'"
            ],
            "application/vnd.google.colaboratory.intrinsic+json": {
              "type": "string"
            }
          },
          "metadata": {},
          "execution_count": 9
        }
      ]
    },
    {
      "cell_type": "code",
      "source": [
        "print(\"\"\"\n",
        "My Interpretation: A prevalent issue occurring in the field of data science\n",
        "is the misinterpretation and overlooking of data. This is leading to many\n",
        "confusions and side effects in the real-world. For example, just because car sales and\n",
        "shark attacks both increase during the summer, it doesn't mean buying\n",
        "cars causes more shark attacks, or vice versa.\n",
        "\"\"\")\n"
      ],
      "metadata": {
        "colab": {
          "base_uri": "https://localhost:8080/"
        },
        "id": "Za9dGDahb6Tf",
        "outputId": "59bf7a88-ddb7-453f-fdce-dae0d61be2e9"
      },
      "execution_count": 13,
      "outputs": [
        {
          "output_type": "stream",
          "name": "stdout",
          "text": [
            "\n",
            "My Interpretation: A prevalent issue occurring in the field of data science \n",
            "is the misinterpretation and overlooking of data. This is leading to many \n",
            "confusions and side effects in the real-world. For example, just because car sales and\n",
            "shark attacks both increase during the summer, it doesn't mean buying\n",
            "cars causes more shark attacks, or vice versa.\n",
            "\n"
          ]
        }
      ]
    }
  ]
}